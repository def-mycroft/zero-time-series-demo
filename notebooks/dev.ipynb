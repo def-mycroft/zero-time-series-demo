{
 "cells": [
  {
   "cell_type": "markdown",
   "id": "84cd5e0f",
   "metadata": {},
   "source": [
    "In this notebook, we'll examine the UCI electricity demand dataset (see [here][0]), and set up a dataframe that can be used for time series prediction testing. \n",
    "\n",
    "[0]:https://archive.ics.uci.edu/dataset/321/electricityloaddiagrams20112014\n",
    "\n",
    "Note that this notebook is for documentation only, the model data can be updated by running `zero-time-series-demo prep ----model-data-pipeline`"
   ]
  },
  {
   "cell_type": "code",
   "execution_count": 1,
   "id": "ca7ec3e6",
   "metadata": {
    "jupyter": {
     "source_hidden": true
    }
   },
   "outputs": [],
   "source": [
    "%load_ext autoreload\n",
    "%autoreload 2"
   ]
  },
  {
   "cell_type": "markdown",
   "id": "dd452a5c",
   "metadata": {},
   "source": [
    "# Load Data"
   ]
  },
  {
   "cell_type": "code",
   "execution_count": 2,
   "id": "4b2c52bf",
   "metadata": {
    "jupyter": {
     "source_hidden": true
    }
   },
   "outputs": [],
   "source": [
    "from zero_ts_demo.imports import *\n",
    "from zero_ts_demo import helpers as hp\n",
    "from zero_ts_demo.load_data import load_model_data"
   ]
  },
  {
   "cell_type": "code",
   "execution_count": 3,
   "id": "733b4914",
   "metadata": {
    "jupyter": {
     "source_hidden": true
    }
   },
   "outputs": [
    {
     "data": {
      "text/html": [
       "<div>\n",
       "<style scoped>\n",
       "    .dataframe tbody tr th:only-of-type {\n",
       "        vertical-align: middle;\n",
       "    }\n",
       "\n",
       "    .dataframe tbody tr th {\n",
       "        vertical-align: top;\n",
       "    }\n",
       "\n",
       "    .dataframe thead th {\n",
       "        text-align: right;\n",
       "    }\n",
       "</style>\n",
       "<table border=\"1\" class=\"dataframe\">\n",
       "  <thead>\n",
       "    <tr style=\"text-align: right;\">\n",
       "      <th></th>\n",
       "      <th>mt_004</th>\n",
       "      <th>mt_005</th>\n",
       "      <th>mt_006</th>\n",
       "      <th>mt_007</th>\n",
       "      <th>mt_009</th>\n",
       "      <th>mt_010</th>\n",
       "      <th>mt_011</th>\n",
       "      <th>mt_013</th>\n",
       "      <th>mt_014</th>\n",
       "      <th>mt_015</th>\n",
       "      <th>...</th>\n",
       "      <th>mt_360</th>\n",
       "      <th>mt_361</th>\n",
       "      <th>mt_362</th>\n",
       "      <th>mt_363</th>\n",
       "      <th>mt_364</th>\n",
       "      <th>mt_365</th>\n",
       "      <th>mt_366</th>\n",
       "      <th>mt_367</th>\n",
       "      <th>mt_368</th>\n",
       "      <th>mt_370</th>\n",
       "    </tr>\n",
       "    <tr>\n",
       "      <th>date</th>\n",
       "      <th></th>\n",
       "      <th></th>\n",
       "      <th></th>\n",
       "      <th></th>\n",
       "      <th></th>\n",
       "      <th></th>\n",
       "      <th></th>\n",
       "      <th></th>\n",
       "      <th></th>\n",
       "      <th></th>\n",
       "      <th></th>\n",
       "      <th></th>\n",
       "      <th></th>\n",
       "      <th></th>\n",
       "      <th></th>\n",
       "      <th></th>\n",
       "      <th></th>\n",
       "      <th></th>\n",
       "      <th></th>\n",
       "      <th></th>\n",
       "      <th></th>\n",
       "    </tr>\n",
       "  </thead>\n",
       "  <tbody>\n",
       "    <tr>\n",
       "      <th>2011-01-01 00:15:00</th>\n",
       "      <td>0.0</td>\n",
       "      <td>0.0</td>\n",
       "      <td>0.0</td>\n",
       "      <td>0.0</td>\n",
       "      <td>0.0</td>\n",
       "      <td>0.0</td>\n",
       "      <td>0.0</td>\n",
       "      <td>0.0</td>\n",
       "      <td>0.0</td>\n",
       "      <td>0.0</td>\n",
       "      <td>...</td>\n",
       "      <td>0.0</td>\n",
       "      <td>0.0</td>\n",
       "      <td>0.0</td>\n",
       "      <td>0.0</td>\n",
       "      <td>0.0</td>\n",
       "      <td>0.0</td>\n",
       "      <td>0.0</td>\n",
       "      <td>0.0</td>\n",
       "      <td>0.0</td>\n",
       "      <td>0.0</td>\n",
       "    </tr>\n",
       "    <tr>\n",
       "      <th>2011-01-01 00:30:00</th>\n",
       "      <td>0.0</td>\n",
       "      <td>0.0</td>\n",
       "      <td>0.0</td>\n",
       "      <td>0.0</td>\n",
       "      <td>0.0</td>\n",
       "      <td>0.0</td>\n",
       "      <td>0.0</td>\n",
       "      <td>0.0</td>\n",
       "      <td>0.0</td>\n",
       "      <td>0.0</td>\n",
       "      <td>...</td>\n",
       "      <td>0.0</td>\n",
       "      <td>0.0</td>\n",
       "      <td>0.0</td>\n",
       "      <td>0.0</td>\n",
       "      <td>0.0</td>\n",
       "      <td>0.0</td>\n",
       "      <td>0.0</td>\n",
       "      <td>0.0</td>\n",
       "      <td>0.0</td>\n",
       "      <td>0.0</td>\n",
       "    </tr>\n",
       "    <tr>\n",
       "      <th>2011-01-01 00:45:00</th>\n",
       "      <td>0.0</td>\n",
       "      <td>0.0</td>\n",
       "      <td>0.0</td>\n",
       "      <td>0.0</td>\n",
       "      <td>0.0</td>\n",
       "      <td>0.0</td>\n",
       "      <td>0.0</td>\n",
       "      <td>0.0</td>\n",
       "      <td>0.0</td>\n",
       "      <td>0.0</td>\n",
       "      <td>...</td>\n",
       "      <td>0.0</td>\n",
       "      <td>0.0</td>\n",
       "      <td>0.0</td>\n",
       "      <td>0.0</td>\n",
       "      <td>0.0</td>\n",
       "      <td>0.0</td>\n",
       "      <td>0.0</td>\n",
       "      <td>0.0</td>\n",
       "      <td>0.0</td>\n",
       "      <td>0.0</td>\n",
       "    </tr>\n",
       "    <tr>\n",
       "      <th>2011-01-01 01:00:00</th>\n",
       "      <td>0.0</td>\n",
       "      <td>0.0</td>\n",
       "      <td>0.0</td>\n",
       "      <td>0.0</td>\n",
       "      <td>0.0</td>\n",
       "      <td>0.0</td>\n",
       "      <td>0.0</td>\n",
       "      <td>0.0</td>\n",
       "      <td>0.0</td>\n",
       "      <td>0.0</td>\n",
       "      <td>...</td>\n",
       "      <td>0.0</td>\n",
       "      <td>0.0</td>\n",
       "      <td>0.0</td>\n",
       "      <td>0.0</td>\n",
       "      <td>0.0</td>\n",
       "      <td>0.0</td>\n",
       "      <td>0.0</td>\n",
       "      <td>0.0</td>\n",
       "      <td>0.0</td>\n",
       "      <td>0.0</td>\n",
       "    </tr>\n",
       "    <tr>\n",
       "      <th>2011-01-01 01:15:00</th>\n",
       "      <td>0.0</td>\n",
       "      <td>0.0</td>\n",
       "      <td>0.0</td>\n",
       "      <td>0.0</td>\n",
       "      <td>0.0</td>\n",
       "      <td>0.0</td>\n",
       "      <td>0.0</td>\n",
       "      <td>0.0</td>\n",
       "      <td>0.0</td>\n",
       "      <td>0.0</td>\n",
       "      <td>...</td>\n",
       "      <td>0.0</td>\n",
       "      <td>0.0</td>\n",
       "      <td>0.0</td>\n",
       "      <td>0.0</td>\n",
       "      <td>0.0</td>\n",
       "      <td>0.0</td>\n",
       "      <td>0.0</td>\n",
       "      <td>0.0</td>\n",
       "      <td>0.0</td>\n",
       "      <td>0.0</td>\n",
       "    </tr>\n",
       "  </tbody>\n",
       "</table>\n",
       "<p>5 rows × 308 columns</p>\n",
       "</div>"
      ],
      "text/plain": [
       "                     mt_004  mt_005  mt_006  mt_007  mt_009  mt_010  mt_011  \\\n",
       "date                                                                          \n",
       "2011-01-01 00:15:00     0.0     0.0     0.0     0.0     0.0     0.0     0.0   \n",
       "2011-01-01 00:30:00     0.0     0.0     0.0     0.0     0.0     0.0     0.0   \n",
       "2011-01-01 00:45:00     0.0     0.0     0.0     0.0     0.0     0.0     0.0   \n",
       "2011-01-01 01:00:00     0.0     0.0     0.0     0.0     0.0     0.0     0.0   \n",
       "2011-01-01 01:15:00     0.0     0.0     0.0     0.0     0.0     0.0     0.0   \n",
       "\n",
       "                     mt_013  mt_014  mt_015  ...  mt_360  mt_361  mt_362  \\\n",
       "date                                         ...                           \n",
       "2011-01-01 00:15:00     0.0     0.0     0.0  ...     0.0     0.0     0.0   \n",
       "2011-01-01 00:30:00     0.0     0.0     0.0  ...     0.0     0.0     0.0   \n",
       "2011-01-01 00:45:00     0.0     0.0     0.0  ...     0.0     0.0     0.0   \n",
       "2011-01-01 01:00:00     0.0     0.0     0.0  ...     0.0     0.0     0.0   \n",
       "2011-01-01 01:15:00     0.0     0.0     0.0  ...     0.0     0.0     0.0   \n",
       "\n",
       "                     mt_363  mt_364  mt_365  mt_366  mt_367  mt_368  mt_370  \n",
       "date                                                                         \n",
       "2011-01-01 00:15:00     0.0     0.0     0.0     0.0     0.0     0.0     0.0  \n",
       "2011-01-01 00:30:00     0.0     0.0     0.0     0.0     0.0     0.0     0.0  \n",
       "2011-01-01 00:45:00     0.0     0.0     0.0     0.0     0.0     0.0     0.0  \n",
       "2011-01-01 01:00:00     0.0     0.0     0.0     0.0     0.0     0.0     0.0  \n",
       "2011-01-01 01:15:00     0.0     0.0     0.0     0.0     0.0     0.0     0.0  \n",
       "\n",
       "[5 rows x 308 columns]"
      ]
     },
     "execution_count": 3,
     "metadata": {},
     "output_type": "execute_result"
    }
   ],
   "source": [
    "MODEL_DATA = load_model_data()\n",
    "df = MODEL_DATA.copy()\n",
    "df.head()"
   ]
  },
  {
   "cell_type": "markdown",
   "id": "e180ad13",
   "metadata": {},
   "source": [
    "# Prophet"
   ]
  },
  {
   "cell_type": "code",
   "execution_count": 5,
   "id": "9c0f09d8",
   "metadata": {
    "jupyter": {
     "source_hidden": true
    }
   },
   "outputs": [],
   "source": [
    "from prophet import Prophet"
   ]
  },
  {
   "cell_type": "code",
   "execution_count": 28,
   "id": "8fcbc541-9fc6-4be8-b358-9b858c2dc850",
   "metadata": {
    "jupyter": {
     "source_hidden": true
    }
   },
   "outputs": [],
   "source": [
    "col = pd.Series(df.columns).sample().iloc[0]\n",
    "perc_test = 0.1"
   ]
  },
  {
   "cell_type": "code",
   "execution_count": 48,
   "id": "64906742-7030-468b-9ec0-dff5f84a47e7",
   "metadata": {
    "scrolled": true
   },
   "outputs": [],
   "source": [
    "# create dataframe for prophet\n",
    "sl = df[[col]].reset_index().copy()\n",
    "sl.columns = ['ds', 'y']\n",
    "m = sl['y'] > 0\n",
    "\n",
    "# todo - use full dataframe, dropping here for testing \n",
    "sl = sl[m].tail(1000).copy()\n",
    "\n",
    "idx = 10\n",
    "idx_train = sl.index[:-idx]\n",
    "idx_test = sl.index[-idx:]\n",
    "sl_train = sl.loc[idx_train]\n",
    "sl_test = sl.loc[idx_test]"
   ]
  },
  {
   "cell_type": "code",
   "execution_count": 49,
   "id": "65df0ce0-2c97-462a-9920-dff3ebcc059d",
   "metadata": {
    "scrolled": true
   },
   "outputs": [
    {
     "name": "stderr",
     "output_type": "stream",
     "text": [
      "04:55:58 - cmdstanpy - INFO - Chain [1] start processing\n",
      "04:55:58 - cmdstanpy - INFO - Chain [1] done processing\n"
     ]
    },
    {
     "data": {
      "text/plain": [
       "<prophet.forecaster.Prophet at 0x7db52acb5bd0>"
      ]
     },
     "execution_count": 49,
     "metadata": {},
     "output_type": "execute_result"
    }
   ],
   "source": [
    "model = Prophet()\n",
    "model.fit(sl_train)"
   ]
  },
  {
   "cell_type": "code",
   "execution_count": 58,
   "id": "de6a2601-63c1-4b91-b026-e4c6a87bca78",
   "metadata": {},
   "outputs": [
    {
     "data": {
      "text/html": [
       "<div>\n",
       "<style scoped>\n",
       "    .dataframe tbody tr th:only-of-type {\n",
       "        vertical-align: middle;\n",
       "    }\n",
       "\n",
       "    .dataframe tbody tr th {\n",
       "        vertical-align: top;\n",
       "    }\n",
       "\n",
       "    .dataframe thead th {\n",
       "        text-align: right;\n",
       "    }\n",
       "</style>\n",
       "<table border=\"1\" class=\"dataframe\">\n",
       "  <thead>\n",
       "    <tr style=\"text-align: right;\">\n",
       "      <th></th>\n",
       "      <th>ds</th>\n",
       "      <th>trend</th>\n",
       "      <th>yhat_lower</th>\n",
       "      <th>yhat_upper</th>\n",
       "      <th>trend_lower</th>\n",
       "      <th>trend_upper</th>\n",
       "      <th>additive_terms</th>\n",
       "      <th>additive_terms_lower</th>\n",
       "      <th>additive_terms_upper</th>\n",
       "      <th>daily</th>\n",
       "      <th>daily_lower</th>\n",
       "      <th>daily_upper</th>\n",
       "      <th>multiplicative_terms</th>\n",
       "      <th>multiplicative_terms_lower</th>\n",
       "      <th>multiplicative_terms_upper</th>\n",
       "      <th>yhat</th>\n",
       "      <th>y</th>\n",
       "    </tr>\n",
       "  </thead>\n",
       "  <tbody>\n",
       "    <tr>\n",
       "      <th>0</th>\n",
       "      <td>2014-12-31 21:45:00</td>\n",
       "      <td>2449.120750</td>\n",
       "      <td>2180.256070</td>\n",
       "      <td>3127.422910</td>\n",
       "      <td>2449.120750</td>\n",
       "      <td>2449.120750</td>\n",
       "      <td>212.589645</td>\n",
       "      <td>212.589645</td>\n",
       "      <td>212.589645</td>\n",
       "      <td>212.589645</td>\n",
       "      <td>212.589645</td>\n",
       "      <td>212.589645</td>\n",
       "      <td>0.0</td>\n",
       "      <td>0.0</td>\n",
       "      <td>0.0</td>\n",
       "      <td>2661.710395</td>\n",
       "      <td>1874.492754</td>\n",
       "    </tr>\n",
       "    <tr>\n",
       "      <th>1</th>\n",
       "      <td>2014-12-31 22:00:00</td>\n",
       "      <td>2446.421129</td>\n",
       "      <td>2127.937159</td>\n",
       "      <td>2999.746372</td>\n",
       "      <td>2446.421129</td>\n",
       "      <td>2446.421129</td>\n",
       "      <td>109.547330</td>\n",
       "      <td>109.547330</td>\n",
       "      <td>109.547330</td>\n",
       "      <td>109.547330</td>\n",
       "      <td>109.547330</td>\n",
       "      <td>109.547330</td>\n",
       "      <td>0.0</td>\n",
       "      <td>0.0</td>\n",
       "      <td>0.0</td>\n",
       "      <td>2555.968459</td>\n",
       "      <td>1903.478261</td>\n",
       "    </tr>\n",
       "    <tr>\n",
       "      <th>2</th>\n",
       "      <td>2014-12-31 22:15:00</td>\n",
       "      <td>2443.721507</td>\n",
       "      <td>1980.810763</td>\n",
       "      <td>2872.654514</td>\n",
       "      <td>2443.721507</td>\n",
       "      <td>2443.721507</td>\n",
       "      <td>4.703143</td>\n",
       "      <td>4.703143</td>\n",
       "      <td>4.703143</td>\n",
       "      <td>4.703143</td>\n",
       "      <td>4.703143</td>\n",
       "      <td>4.703143</td>\n",
       "      <td>0.0</td>\n",
       "      <td>0.0</td>\n",
       "      <td>0.0</td>\n",
       "      <td>2448.424650</td>\n",
       "      <td>1917.971014</td>\n",
       "    </tr>\n",
       "    <tr>\n",
       "      <th>3</th>\n",
       "      <td>2014-12-31 22:30:00</td>\n",
       "      <td>2441.021886</td>\n",
       "      <td>1846.518199</td>\n",
       "      <td>2789.074654</td>\n",
       "      <td>2441.021886</td>\n",
       "      <td>2441.021886</td>\n",
       "      <td>-101.185486</td>\n",
       "      <td>-101.185486</td>\n",
       "      <td>-101.185486</td>\n",
       "      <td>-101.185486</td>\n",
       "      <td>-101.185486</td>\n",
       "      <td>-101.185486</td>\n",
       "      <td>0.0</td>\n",
       "      <td>0.0</td>\n",
       "      <td>0.0</td>\n",
       "      <td>2339.836400</td>\n",
       "      <td>1787.536232</td>\n",
       "    </tr>\n",
       "    <tr>\n",
       "      <th>4</th>\n",
       "      <td>2014-12-31 22:45:00</td>\n",
       "      <td>2438.322264</td>\n",
       "      <td>1786.292063</td>\n",
       "      <td>2662.413563</td>\n",
       "      <td>2438.322264</td>\n",
       "      <td>2438.322264</td>\n",
       "      <td>-207.503002</td>\n",
       "      <td>-207.503002</td>\n",
       "      <td>-207.503002</td>\n",
       "      <td>-207.503002</td>\n",
       "      <td>-207.503002</td>\n",
       "      <td>-207.503002</td>\n",
       "      <td>0.0</td>\n",
       "      <td>0.0</td>\n",
       "      <td>0.0</td>\n",
       "      <td>2230.819263</td>\n",
       "      <td>1932.463768</td>\n",
       "    </tr>\n",
       "    <tr>\n",
       "      <th>5</th>\n",
       "      <td>2014-12-31 23:00:00</td>\n",
       "      <td>2435.622643</td>\n",
       "      <td>1681.207213</td>\n",
       "      <td>2576.317540</td>\n",
       "      <td>2435.622643</td>\n",
       "      <td>2435.622643</td>\n",
       "      <td>-313.749039</td>\n",
       "      <td>-313.749039</td>\n",
       "      <td>-313.749039</td>\n",
       "      <td>-313.749039</td>\n",
       "      <td>-313.749039</td>\n",
       "      <td>-313.749039</td>\n",
       "      <td>0.0</td>\n",
       "      <td>0.0</td>\n",
       "      <td>0.0</td>\n",
       "      <td>2121.873603</td>\n",
       "      <td>1874.492754</td>\n",
       "    </tr>\n",
       "    <tr>\n",
       "      <th>6</th>\n",
       "      <td>2014-12-31 23:15:00</td>\n",
       "      <td>2432.923021</td>\n",
       "      <td>1569.843808</td>\n",
       "      <td>2504.886905</td>\n",
       "      <td>2432.923021</td>\n",
       "      <td>2432.923021</td>\n",
       "      <td>-419.501507</td>\n",
       "      <td>-419.501507</td>\n",
       "      <td>-419.501507</td>\n",
       "      <td>-419.501507</td>\n",
       "      <td>-419.501507</td>\n",
       "      <td>-419.501507</td>\n",
       "      <td>0.0</td>\n",
       "      <td>0.0</td>\n",
       "      <td>0.0</td>\n",
       "      <td>2013.421515</td>\n",
       "      <td>1787.536232</td>\n",
       "    </tr>\n",
       "    <tr>\n",
       "      <th>7</th>\n",
       "      <td>2014-12-31 23:30:00</td>\n",
       "      <td>2430.223400</td>\n",
       "      <td>1408.370417</td>\n",
       "      <td>2346.465769</td>\n",
       "      <td>2430.163102</td>\n",
       "      <td>2430.223400</td>\n",
       "      <td>-524.372969</td>\n",
       "      <td>-524.372969</td>\n",
       "      <td>-524.372969</td>\n",
       "      <td>-524.372969</td>\n",
       "      <td>-524.372969</td>\n",
       "      <td>-524.372969</td>\n",
       "      <td>0.0</td>\n",
       "      <td>0.0</td>\n",
       "      <td>0.0</td>\n",
       "      <td>1905.850431</td>\n",
       "      <td>1613.478261</td>\n",
       "    </tr>\n",
       "    <tr>\n",
       "      <th>8</th>\n",
       "      <td>2014-12-31 23:45:00</td>\n",
       "      <td>2427.523778</td>\n",
       "      <td>1342.392507</td>\n",
       "      <td>2243.271627</td>\n",
       "      <td>2427.256127</td>\n",
       "      <td>2427.579695</td>\n",
       "      <td>-627.964342</td>\n",
       "      <td>-627.964342</td>\n",
       "      <td>-627.964342</td>\n",
       "      <td>-627.964342</td>\n",
       "      <td>-627.964342</td>\n",
       "      <td>-627.964342</td>\n",
       "      <td>0.0</td>\n",
       "      <td>0.0</td>\n",
       "      <td>0.0</td>\n",
       "      <td>1799.559436</td>\n",
       "      <td>1671.449275</td>\n",
       "    </tr>\n",
       "    <tr>\n",
       "      <th>9</th>\n",
       "      <td>2015-01-01 00:00:00</td>\n",
       "      <td>2424.824157</td>\n",
       "      <td>1240.568636</td>\n",
       "      <td>2146.641315</td>\n",
       "      <td>2424.340688</td>\n",
       "      <td>2425.067765</td>\n",
       "      <td>-729.820021</td>\n",
       "      <td>-729.820021</td>\n",
       "      <td>-729.820021</td>\n",
       "      <td>-729.820021</td>\n",
       "      <td>-729.820021</td>\n",
       "      <td>-729.820021</td>\n",
       "      <td>0.0</td>\n",
       "      <td>0.0</td>\n",
       "      <td>0.0</td>\n",
       "      <td>1695.004136</td>\n",
       "      <td>1482.898551</td>\n",
       "    </tr>\n",
       "  </tbody>\n",
       "</table>\n",
       "</div>"
      ],
      "text/plain": [
       "                   ds        trend   yhat_lower   yhat_upper  trend_lower  \\\n",
       "0 2014-12-31 21:45:00  2449.120750  2180.256070  3127.422910  2449.120750   \n",
       "1 2014-12-31 22:00:00  2446.421129  2127.937159  2999.746372  2446.421129   \n",
       "2 2014-12-31 22:15:00  2443.721507  1980.810763  2872.654514  2443.721507   \n",
       "3 2014-12-31 22:30:00  2441.021886  1846.518199  2789.074654  2441.021886   \n",
       "4 2014-12-31 22:45:00  2438.322264  1786.292063  2662.413563  2438.322264   \n",
       "5 2014-12-31 23:00:00  2435.622643  1681.207213  2576.317540  2435.622643   \n",
       "6 2014-12-31 23:15:00  2432.923021  1569.843808  2504.886905  2432.923021   \n",
       "7 2014-12-31 23:30:00  2430.223400  1408.370417  2346.465769  2430.163102   \n",
       "8 2014-12-31 23:45:00  2427.523778  1342.392507  2243.271627  2427.256127   \n",
       "9 2015-01-01 00:00:00  2424.824157  1240.568636  2146.641315  2424.340688   \n",
       "\n",
       "   trend_upper  additive_terms  additive_terms_lower  additive_terms_upper  \\\n",
       "0  2449.120750      212.589645            212.589645            212.589645   \n",
       "1  2446.421129      109.547330            109.547330            109.547330   \n",
       "2  2443.721507        4.703143              4.703143              4.703143   \n",
       "3  2441.021886     -101.185486           -101.185486           -101.185486   \n",
       "4  2438.322264     -207.503002           -207.503002           -207.503002   \n",
       "5  2435.622643     -313.749039           -313.749039           -313.749039   \n",
       "6  2432.923021     -419.501507           -419.501507           -419.501507   \n",
       "7  2430.223400     -524.372969           -524.372969           -524.372969   \n",
       "8  2427.579695     -627.964342           -627.964342           -627.964342   \n",
       "9  2425.067765     -729.820021           -729.820021           -729.820021   \n",
       "\n",
       "        daily  daily_lower  daily_upper  multiplicative_terms  \\\n",
       "0  212.589645   212.589645   212.589645                   0.0   \n",
       "1  109.547330   109.547330   109.547330                   0.0   \n",
       "2    4.703143     4.703143     4.703143                   0.0   \n",
       "3 -101.185486  -101.185486  -101.185486                   0.0   \n",
       "4 -207.503002  -207.503002  -207.503002                   0.0   \n",
       "5 -313.749039  -313.749039  -313.749039                   0.0   \n",
       "6 -419.501507  -419.501507  -419.501507                   0.0   \n",
       "7 -524.372969  -524.372969  -524.372969                   0.0   \n",
       "8 -627.964342  -627.964342  -627.964342                   0.0   \n",
       "9 -729.820021  -729.820021  -729.820021                   0.0   \n",
       "\n",
       "   multiplicative_terms_lower  multiplicative_terms_upper         yhat  \\\n",
       "0                         0.0                         0.0  2661.710395   \n",
       "1                         0.0                         0.0  2555.968459   \n",
       "2                         0.0                         0.0  2448.424650   \n",
       "3                         0.0                         0.0  2339.836400   \n",
       "4                         0.0                         0.0  2230.819263   \n",
       "5                         0.0                         0.0  2121.873603   \n",
       "6                         0.0                         0.0  2013.421515   \n",
       "7                         0.0                         0.0  1905.850431   \n",
       "8                         0.0                         0.0  1799.559436   \n",
       "9                         0.0                         0.0  1695.004136   \n",
       "\n",
       "             y  \n",
       "0  1874.492754  \n",
       "1  1903.478261  \n",
       "2  1917.971014  \n",
       "3  1787.536232  \n",
       "4  1932.463768  \n",
       "5  1874.492754  \n",
       "6  1787.536232  \n",
       "7  1613.478261  \n",
       "8  1671.449275  \n",
       "9  1482.898551  "
      ]
     },
     "execution_count": 58,
     "metadata": {},
     "output_type": "execute_result"
    }
   ],
   "source": [
    "model.predict(sl_test.drop(columns='y')).merge(sl_test, on=['ds'])"
   ]
  },
  {
   "cell_type": "code",
   "execution_count": null,
   "id": "d5813052-251d-4968-9e12-2e63b66f7087",
   "metadata": {
    "jupyter": {
     "source_hidden": true
    }
   },
   "outputs": [],
   "source": []
  },
  {
   "cell_type": "code",
   "execution_count": null,
   "id": "3211a1f0-21d4-486b-8623-4fac68e914dd",
   "metadata": {
    "jupyter": {
     "source_hidden": true
    }
   },
   "outputs": [],
   "source": []
  },
  {
   "cell_type": "code",
   "execution_count": null,
   "id": "d3ef125a-3982-4ba4-9b41-88e04941f0a8",
   "metadata": {
    "jupyter": {
     "source_hidden": true
    }
   },
   "outputs": [],
   "source": []
  },
  {
   "cell_type": "code",
   "execution_count": null,
   "id": "79c525ee-e027-4022-90a4-6db6449a1e58",
   "metadata": {
    "jupyter": {
     "source_hidden": true
    }
   },
   "outputs": [],
   "source": []
  },
  {
   "cell_type": "code",
   "execution_count": null,
   "id": "4f819fbc-27e5-443f-8d15-469fd0d4b495",
   "metadata": {
    "jupyter": {
     "source_hidden": true
    }
   },
   "outputs": [],
   "source": []
  },
  {
   "cell_type": "code",
   "execution_count": null,
   "id": "090fe90b-985c-47d7-8bfb-e2e6269e74be",
   "metadata": {
    "jupyter": {
     "source_hidden": true
    }
   },
   "outputs": [],
   "source": []
  },
  {
   "cell_type": "code",
   "execution_count": null,
   "id": "451f5041-d176-4bf0-9673-14e2f2457564",
   "metadata": {
    "jupyter": {
     "source_hidden": true
    }
   },
   "outputs": [],
   "source": []
  },
  {
   "cell_type": "code",
   "execution_count": null,
   "id": "ea24e8f8-1a12-42ed-821f-b7dd406cad69",
   "metadata": {
    "jupyter": {
     "source_hidden": true
    }
   },
   "outputs": [],
   "source": []
  },
  {
   "cell_type": "code",
   "execution_count": null,
   "id": "d43cbfc1-9841-4ad2-8bee-fce8b4110d9a",
   "metadata": {
    "jupyter": {
     "source_hidden": true
    }
   },
   "outputs": [],
   "source": []
  },
  {
   "cell_type": "code",
   "execution_count": null,
   "id": "3bbc435c-071f-4682-b74f-630b34dbbf6d",
   "metadata": {
    "jupyter": {
     "source_hidden": true
    }
   },
   "outputs": [],
   "source": []
  },
  {
   "cell_type": "code",
   "execution_count": null,
   "id": "34e457e9-8d36-4761-9e86-8ed9567fa268",
   "metadata": {
    "jupyter": {
     "source_hidden": true
    }
   },
   "outputs": [],
   "source": []
  }
 ],
 "metadata": {
  "kernelspec": {
   "display_name": "Python 3 (ipykernel)",
   "language": "python",
   "name": "python3"
  },
  "language_info": {
   "codemirror_mode": {
    "name": "ipython",
    "version": 3
   },
   "file_extension": ".py",
   "mimetype": "text/x-python",
   "name": "python",
   "nbconvert_exporter": "python",
   "pygments_lexer": "ipython3",
   "version": "3.10.14"
  }
 },
 "nbformat": 4,
 "nbformat_minor": 5
}
