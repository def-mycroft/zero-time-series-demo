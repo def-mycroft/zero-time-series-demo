{
 "cells": [
  {
   "cell_type": "markdown",
   "id": "84cd5e0f",
   "metadata": {},
   "source": [
    "In this notebook, we'll examine the UCI electricity demand dataset (see [here][0]), and set up a dataframe that can be used for time series prediction testing. \n",
    "\n",
    "[0]:https://archive.ics.uci.edu/dataset/321/electricityloaddiagrams20112014\n",
    "\n",
    "Note that this notebook is for documentation only, the model data can be updated by running `zero-time-series-demo prep ----model-data-pipeline`"
   ]
  },
  {
   "cell_type": "markdown",
   "id": "dd452a5c",
   "metadata": {},
   "source": [
    "# Inspect Data"
   ]
  },
  {
   "cell_type": "code",
   "execution_count": 1,
   "id": "4b2c52bf",
   "metadata": {},
   "outputs": [],
   "source": [
    "from zero_ts_demo.imports import *\n",
    "from zero_ts_demo import helpers as hp\n",
    "from zero_ts_demo.load_data import load_model_data"
   ]
  },
  {
   "cell_type": "code",
   "execution_count": 2,
   "id": "733b4914",
   "metadata": {},
   "outputs": [],
   "source": [
    "df = load_model_data().filter(regex='^mt_')\n",
    "assert df.shape[1] == 308"
   ]
  },
  {
   "cell_type": "code",
   "execution_count": null,
   "id": "a2334294",
   "metadata": {},
   "outputs": [],
   "source": []
  },
  {
   "cell_type": "code",
   "execution_count": null,
   "id": "c7dae56e",
   "metadata": {},
   "outputs": [],
   "source": []
  },
  {
   "cell_type": "code",
   "execution_count": null,
   "id": "b2b29d16",
   "metadata": {},
   "outputs": [],
   "source": []
  },
  {
   "cell_type": "code",
   "execution_count": null,
   "id": "e1a6815d",
   "metadata": {},
   "outputs": [],
   "source": []
  }
 ],
 "metadata": {
  "kernelspec": {
   "display_name": "Python 3 (ipykernel)",
   "language": "python",
   "name": "python3"
  },
  "language_info": {
   "codemirror_mode": {
    "name": "ipython",
    "version": 3
   },
   "file_extension": ".py",
   "mimetype": "text/x-python",
   "name": "python",
   "nbconvert_exporter": "python",
   "pygments_lexer": "ipython3",
   "version": "3.12.2"
  }
 },
 "nbformat": 4,
 "nbformat_minor": 5
}
